{
 "cells": [
  {
   "cell_type": "code",
   "execution_count": 307,
   "id": "b75ca058",
   "metadata": {},
   "outputs": [
    {
     "name": "stdout",
     "output_type": "stream",
     "text": [
      "['legacy_store_details', 'legacy_users', 'orders_table']\n"
     ]
    }
   ],
   "source": [
    "from database_utils import * \n",
    "from data_extraction import * \n",
    "\n",
    "\n",
    "db= DatabaseConnector()\n",
    "db_extractor= DataExtractor()\n",
    "db.list_db_tables()\n",
    "users_df=db_extractor.read_rds_table(db,'legacy_users')\n"
   ]
  },
  {
   "cell_type": "code",
   "execution_count": 308,
   "id": "7b37b0b6",
   "metadata": {},
   "outputs": [],
   "source": [
    "def format_date(df,date_col):\n",
    "    \n",
    "    \"\"\"This function can format different date formats. I identified 3 different possible formats\n",
    "    The two date columns can contain different formats in each row. \n",
    "    Therefore the function is applied to both columns separetely\"\"\"\n",
    "\n",
    "    \n",
    "    slash_dates=df[df[date_col].str.contains(\"/\", regex=False)]\n",
    "    wordly_dates=df[df[date_col].str.contains('\\d{4}\\s[a-zA-Z]+\\s\\d{2}', regex=True)]\n",
    "    regular_dates=df[df[date_col].str.contains(\"\\d{4}-\\d{2}-\\d{2}\", regex=True)]\n",
    "\n",
    "    slash_dates[date_col]=pd.to_datetime(slash_dates[date_col])\n",
    "    wordly_dates[date_col]=pd.to_datetime(wordly_dates[date_col])\n",
    "    regular_dates[date_col]=pd.to_datetime(regular_dates[date_col])\n",
    "    \n",
    "    print(f\"formatted {slash_dates.shape[0]} row with datetime format type '/', in column {date_col} \")\n",
    "    print(f\"formatted {wordly_dates.shape[0]} row with datetime format type '1989 October 10',in column {date_col} \")\n",
    "    print(f\"formatted {regular_dates.shape[0]} row with datetime format type '2005-01-10', in column {date_col} \")\n",
    "\n",
    "    return pd.concat([slash_dates,wordly_dates,regular_dates])\n",
    "\n",
    "\n",
    "#attempting to drop pandas-recognised NaNs values\n",
    "users_df.dropna(inplace=True)\n",
    "\n",
    "#lambda replaces elements containing 'NULL' with NaNs, then those can be dropped with .dropna()\n",
    "users_df=users_df.apply(lambda x : x[~x.astype('str').str.contains('NULL')]).dropna() \n",
    "\n",
    "# Some of the following conditions appear on the same row, therefore once that row is dropped \n",
    "# the other line of code will do nothing, but I included them anyway, as if working with real data \n",
    "# that may have just 1 condition occurring in a row \n",
    "\n",
    "users_df=users_df[users_df['email_address'].str.contains('@')] # check that all email addresses have an @\n",
    "users_df=users_df[~users_df['first_name'].str.contains('\\d',regex=True)] #checks names have no numbers\n",
    "users_df=users_df[~users_df['last_name'].str.contains('\\d',regex=True)] #checks surnames have no numbers\n",
    "users_df=users_df[~users_df['country'].str.contains('\\d',regex=True)] #checks that country names have no number\n",
    "users_df['country_code']=users_df['country_code']=users_df.country_code.str.replace('GGB','GB') #make UK code consistent \n",
    "\n",
    "users_df=format_date(users_df,'date_of_birth')\n",
    "users_df=format_date(users_df,'join_date')"
   ]
  }
 ],
 "metadata": {
  "kernelspec": {
   "display_name": "Python 3 (ipykernel)",
   "language": "python",
   "name": "python3"
  },
  "language_info": {
   "codemirror_mode": {
    "name": "ipython",
    "version": 3
   },
   "file_extension": ".py",
   "mimetype": "text/x-python",
   "name": "python",
   "nbconvert_exporter": "python",
   "pygments_lexer": "ipython3",
   "version": "3.11.3"
  }
 },
 "nbformat": 4,
 "nbformat_minor": 5
}
