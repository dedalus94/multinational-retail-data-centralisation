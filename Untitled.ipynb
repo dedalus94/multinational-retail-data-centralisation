{
 "cells": [
  {
   "cell_type": "code",
   "execution_count": 1,
   "id": "19202048",
   "metadata": {},
   "outputs": [],
   "source": [
    "from database_utils import * \n",
    "from data_extraction import * \n",
    "from data_cleaning import * \n",
    "from sqlalchemy import text\n",
    "import tabula "
   ]
  },
  {
   "cell_type": "code",
   "execution_count": null,
   "id": "07cadd39",
   "metadata": {},
   "outputs": [],
   "source": []
  },
  {
   "cell_type": "code",
   "execution_count": 10,
   "id": "0ab94415",
   "metadata": {},
   "outputs": [
    {
     "ename": "AttributeError",
     "evalue": "module 'tabula' has no attribute 'read_pdf'",
     "output_type": "error",
     "traceback": [
      "\u001b[1;31m---------------------------------------------------------------------------\u001b[0m",
      "\u001b[1;31mAttributeError\u001b[0m                            Traceback (most recent call last)",
      "Cell \u001b[1;32mIn[10], line 1\u001b[0m\n\u001b[1;32m----> 1\u001b[0m \u001b[43mtabula\u001b[49m\u001b[38;5;241;43m.\u001b[39;49m\u001b[43mread_pdf\u001b[49m(link, stream\u001b[38;5;241m=\u001b[39m\u001b[38;5;28;01mTrue\u001b[39;00m, pages\u001b[38;5;241m=\u001b[39m\u001b[38;5;124m\"\u001b[39m\u001b[38;5;124mall\u001b[39m\u001b[38;5;124m\"\u001b[39m,output_format\u001b[38;5;241m=\u001b[39m\u001b[38;5;124m'\u001b[39m\u001b[38;5;124mdataframe\u001b[39m\u001b[38;5;124m'\u001b[39m)\n",
      "\u001b[1;31mAttributeError\u001b[0m: module 'tabula' has no attribute 'read_pdf'"
     ]
    }
   ],
   "source": [
    "tabula.read_pdf(link, stream=True, pages=\"all\",output_format='dataframe')"
   ]
  },
  {
   "cell_type": "code",
   "execution_count": 2,
   "id": "d52e0b28",
   "metadata": {},
   "outputs": [],
   "source": [
    "DATABASE_TYPE = 'postgresql'\n",
    "DBAPI = 'psycopg2'\n",
    "ENDPOINT = 'localhost'\n",
    "USER = 'postgres'\n",
    "PASSWORD = '11dariods56'\n",
    "PORT = '5454'\n",
    "DATABASE = 'sales_data'\n",
    "\n",
    "\n",
    "engine = create_engine(f\"{DATABASE_TYPE}+{DBAPI}://{USER}:{PASSWORD}@{ENDPOINT}:{PORT}/{DATABASE}\")\n",
    "engine = engine.connect()\n",
    "\n",
    "\n",
    "result= engine.execute(text(\"SELECT * FROM orders_table\"))\n",
    "result=result.fetchall()\n",
    "orders_df=pd.DataFrame(result)\n",
    "\n",
    "result= engine.execute(text(\"SELECT * FROM dim_card_details\"))\n",
    "result= result.fetchall()\n",
    "cards_df=pd.DataFrame(result)\n",
    "\n",
    "len(cards_df['card_number'].unique())\n",
    "\n",
    "intersection = set(orders_df['card_number'].unique()) - set(cards_df['card_number'])"
   ]
  },
  {
   "cell_type": "code",
   "execution_count": 7,
   "id": "5691c7fb",
   "metadata": {
    "scrolled": true
   },
   "outputs": [
    {
     "data": {
      "text/plain": [
       "{'180050249830123',\n",
       " '180057301116499',\n",
       " '213146876620802',\n",
       " '213180995230995',\n",
       " '2289192796319960',\n",
       " '30250394667203',\n",
       " '30514060650748',\n",
       " '342417081119649',\n",
       " '344708646107246',\n",
       " '347044908689102',\n",
       " '347930299729087',\n",
       " '3505903075912290',\n",
       " '3516253808757020',\n",
       " '3538977357550250',\n",
       " '3539141579974750',\n",
       " '3547096863061470',\n",
       " '3547250342266290',\n",
       " '3549015558397180',\n",
       " '3568046196711760',\n",
       " '3572338360037250',\n",
       " '375351960865313',\n",
       " '378525861105021',\n",
       " '379216309334303',\n",
       " '4081518050956',\n",
       " '4153576564097700',\n",
       " '4163664547785',\n",
       " '4214816564762',\n",
       " '4359935800991980',\n",
       " '4437318005811200',\n",
       " '4461113557725820',\n",
       " '4533386614864810000',\n",
       " '4740074296004170',\n",
       " '4771935519001240000',\n",
       " '4824901991016570',\n",
       " '4933918420207',\n",
       " '501855542764',\n",
       " '503817031456',\n",
       " '5490899771528630',\n",
       " '560543077963',\n",
       " '567416010674',\n",
       " '578856259689',\n",
       " '582457332168',\n",
       " '586988110886',\n",
       " '588165713912',\n",
       " '6011036876440620',\n",
       " '6011461937554730',\n",
       " '6011652526437820',\n",
       " '639029234510',\n",
       " '6543590062391780',\n",
       " '6575138434928450',\n",
       " '675929507340',\n",
       " '676173962538',\n",
       " '676177220818'}"
      ]
     },
     "execution_count": 7,
     "metadata": {},
     "output_type": "execute_result"
    }
   ],
   "source": [
    "intersection"
   ]
  },
  {
   "cell_type": "code",
   "execution_count": 8,
   "id": "24a047d2",
   "metadata": {},
   "outputs": [],
   "source": [
    "s3_file= pd.read_csv('original_df.csv')"
   ]
  },
  {
   "cell_type": "code",
   "execution_count": 9,
   "id": "7e61b36d",
   "metadata": {},
   "outputs": [
    {
     "data": {
      "text/html": [
       "<div>\n",
       "<style scoped>\n",
       "    .dataframe tbody tr th:only-of-type {\n",
       "        vertical-align: middle;\n",
       "    }\n",
       "\n",
       "    .dataframe tbody tr th {\n",
       "        vertical-align: top;\n",
       "    }\n",
       "\n",
       "    .dataframe thead th {\n",
       "        text-align: right;\n",
       "    }\n",
       "</style>\n",
       "<table border=\"1\" class=\"dataframe\">\n",
       "  <thead>\n",
       "    <tr style=\"text-align: right;\">\n",
       "      <th></th>\n",
       "      <th>Unnamed: 0</th>\n",
       "      <th>card_number</th>\n",
       "      <th>expiry_date</th>\n",
       "      <th>card_provider</th>\n",
       "      <th>date_payment_confirmed</th>\n",
       "    </tr>\n",
       "  </thead>\n",
       "  <tbody>\n",
       "  </tbody>\n",
       "</table>\n",
       "</div>"
      ],
      "text/plain": [
       "Empty DataFrame\n",
       "Columns: [Unnamed: 0, card_number, expiry_date, card_provider, date_payment_confirmed]\n",
       "Index: []"
      ]
     },
     "execution_count": 9,
     "metadata": {},
     "output_type": "execute_result"
    }
   ],
   "source": [
    "s3_file[s3_file['card_number'].isin(intersection)]"
   ]
  },
  {
   "cell_type": "code",
   "execution_count": null,
   "id": "edcf8e5d",
   "metadata": {},
   "outputs": [],
   "source": []
  }
 ],
 "metadata": {
  "kernelspec": {
   "display_name": "Python 3 (ipykernel)",
   "language": "python",
   "name": "python3"
  },
  "language_info": {
   "codemirror_mode": {
    "name": "ipython",
    "version": 3
   },
   "file_extension": ".py",
   "mimetype": "text/x-python",
   "name": "python",
   "nbconvert_exporter": "python",
   "pygments_lexer": "ipython3",
   "version": "3.11.3"
  }
 },
 "nbformat": 4,
 "nbformat_minor": 5
}
